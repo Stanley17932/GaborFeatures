{
  "cells": [
    {
      "cell_type": "markdown",
      "metadata": {
        "id": "B3A9UydzMyq9"
      },
      "source": [
        "# **Implementing Gabor on Test and Train Data**"
      ]
    },
    {
      "cell_type": "code",
      "execution_count": null,
      "metadata": {
        "id": "tYoaShWcMv8v"
      },
      "outputs": [],
      "source": [
        "#import necessary libraries\n",
        "import numpy as np\n",
        "from sklearn.model_selection import train_test_split\n",
        "from sklearn.ensemble import RandomForestClassifier\n",
        "from sklearn import metrics\n",
        "from sklearn.metrics import accuracy_score\n",
        "from sklearn.metrics import confusion_matrix\n",
        "from sklearn.metrics import classification_report\n",
        "import pandas as pd\n",
        "from sklearn.metrics import accuracy_score\n",
        "from sklearn.neighbors import KNeighborsClassifier\n",
        "from sklearn.metrics import roc_curve, roc_auc_score\n",
        "from sklearn.metrics import classification_report, confusion_matrix\n",
        "from sklearn.cluster import KMeans\n",
        "from itertools import cycle\n",
        "from sklearn.preprocessing import label_binarize\n",
        "%matplotlib inline\n",
        "import cv2\n",
        "import os\n"
      ]
    },
    {
      "cell_type": "code",
      "execution_count": null,
      "metadata": {
        "id": "rE-h6noHM5x4"
      },
      "outputs": [],
      "source": [
        "train_path = \"/content/drive/MyDrive/NEU-DET/train/images/\""
      ]
    },
    {
      "cell_type": "code",
      "execution_count": null,
      "metadata": {
        "id": "E7NM97QxM51V"
      },
      "outputs": [],
      "source": [
        "slices = []"
      ]
    },
    {
      "cell_type": "code",
      "execution_count": null,
      "metadata": {
        "id": "Q2PhLJGTM54b"
      },
      "outputs": [],
      "source": [
        "for dirName, subdirList, fileList in os.walk(train_path):\n",
        "        for filename in fileList:\n",
        "            if \".jpg\" in filename.lower():\n",
        "                slices.append(cv2.imread(os.path.join(dirName, filename),0))"
      ]
    },
    {
      "cell_type": "code",
      "execution_count": null,
      "metadata": {
        "colab": {
          "base_uri": "https://localhost:8080/"
        },
        "id": "A89YcbJeM58H",
        "outputId": "9e4db2ac-684c-43b3-8bc8-e9389afc1e9c"
      },
      "outputs": [
        {
          "name": "stdout",
          "output_type": "stream",
          "text": [
            "1440\n"
          ]
        }
      ],
      "source": [
        "print(len(slices))"
      ]
    },
    {
      "cell_type": "code",
      "execution_count": null,
      "metadata": {
        "id": "rXYteJQOM5_d"
      },
      "outputs": [],
      "source": [
        "final = []\n",
        "count = 0\n",
        "label = 0"
      ]
    },
    {
      "cell_type": "code",
      "execution_count": null,
      "metadata": {
        "id": "xKz1XrqQPU0h"
      },
      "outputs": [],
      "source": [
        "df = pd.DataFrame()"
      ]
    },
    {
      "cell_type": "code",
      "execution_count": null,
      "metadata": {
        "colab": {
          "background_save": true,
          "base_uri": "https://localhost:8080/"
        },
        "id": "7307eSgxM6HT",
        "outputId": "840891f6-dca5-4bea-c452-67d832a51c88"
      },
      "outputs": [
        {
          "name": "stderr",
          "output_type": "stream",
          "text": [
            "/usr/local/lib/python3.7/dist-packages/ipykernel_launcher.py:23: PerformanceWarning: DataFrame is highly fragmented.  This is usually the result of calling `frame.insert` many times, which has poor performance.  Consider joining all columns at once using pd.concat(axis=1) instead.  To get a de-fragmented frame, use `newframe = frame.copy()`\n"
          ]
        }
      ],
      "source": [
        "x_train = list()\n",
        "y_train = list()\n",
        "kernels = []\n",
        "count = 0\n",
        "num = 1\n",
        "\n",
        "for i in range(len(slices)):\n",
        "  img = slices[i]\n",
        "  for theta in range(2):\n",
        "    theta = theta /4. *np.pi\n",
        "    for sigma in (1,3):\n",
        "      for lamda in np.arange(0, np.pi, np.pi /4):\n",
        "        for gamma in (0.05, 0.5):\n",
        "\n",
        "          gabor_label = 'Gabor' + str(num)\n",
        "\n",
        "          ksize = 9\n",
        "          kernel = cv2.getGaborKernel((ksize, ksize), sigma, theta, lamda, gamma, 0, ktype=cv2.CV_32F)\n",
        "          kernels.append(kernel)\n",
        "\n",
        "          fimg = cv2.filter2D(img, cv2.CV_8UC3, kernel)\n",
        "          filtered_img = fimg.reshape(-1)\n",
        "          df[gabor_label] = filtered_img\n",
        "          # print(gabor_label, ':theta', theta,':sigma', sigma, ':lamda', lamda, ':gamma', gamma )\n",
        "          num +=1\n",
        "    \n",
        "\n",
        "\n",
        "\n",
        "\n",
        "  x_train.append(kernels)\n",
        "  y_train.append(int(count/240))\n",
        "  count +=1"
      ]
    },
    {
      "cell_type": "code",
      "execution_count": null,
      "metadata": {
        "colab": {
          "background_save": true
        },
        "id": "I5939r6RPgBB",
        "outputId": "7ac0b9d7-5e26-4539-8751-7fddd003f0fa"
      },
      "outputs": [
        {
          "data": {
            "text/html": [
              "\n",
              "  <div id=\"df-c539da21-6c10-4a61-9e68-1bda2e562710\">\n",
              "    <div class=\"colab-df-container\">\n",
              "      <div>\n",
              "<style scoped>\n",
              "    .dataframe tbody tr th:only-of-type {\n",
              "        vertical-align: middle;\n",
              "    }\n",
              "\n",
              "    .dataframe tbody tr th {\n",
              "        vertical-align: top;\n",
              "    }\n",
              "\n",
              "    .dataframe thead th {\n",
              "        text-align: right;\n",
              "    }\n",
              "</style>\n",
              "<table border=\"1\" class=\"dataframe\">\n",
              "  <thead>\n",
              "    <tr style=\"text-align: right;\">\n",
              "      <th></th>\n",
              "      <th>Gabor1</th>\n",
              "      <th>Gabor2</th>\n",
              "      <th>Gabor3</th>\n",
              "      <th>Gabor4</th>\n",
              "      <th>Gabor5</th>\n",
              "      <th>Gabor6</th>\n",
              "      <th>Gabor7</th>\n",
              "      <th>Gabor8</th>\n",
              "      <th>Gabor9</th>\n",
              "      <th>Gabor10</th>\n",
              "      <th>...</th>\n",
              "      <th>Gabor46071</th>\n",
              "      <th>Gabor46072</th>\n",
              "      <th>Gabor46073</th>\n",
              "      <th>Gabor46074</th>\n",
              "      <th>Gabor46075</th>\n",
              "      <th>Gabor46076</th>\n",
              "      <th>Gabor46077</th>\n",
              "      <th>Gabor46078</th>\n",
              "      <th>Gabor46079</th>\n",
              "      <th>Gabor46080</th>\n",
              "    </tr>\n",
              "  </thead>\n",
              "  <tbody>\n",
              "    <tr>\n",
              "      <th>0</th>\n",
              "      <td>0</td>\n",
              "      <td>0</td>\n",
              "      <td>255</td>\n",
              "      <td>163</td>\n",
              "      <td>91</td>\n",
              "      <td>50</td>\n",
              "      <td>34</td>\n",
              "      <td>19</td>\n",
              "      <td>0</td>\n",
              "      <td>0</td>\n",
              "      <td>...</td>\n",
              "      <td>126</td>\n",
              "      <td>21</td>\n",
              "      <td>0</td>\n",
              "      <td>0</td>\n",
              "      <td>255</td>\n",
              "      <td>255</td>\n",
              "      <td>26</td>\n",
              "      <td>12</td>\n",
              "      <td>56</td>\n",
              "      <td>33</td>\n",
              "    </tr>\n",
              "    <tr>\n",
              "      <th>1</th>\n",
              "      <td>0</td>\n",
              "      <td>0</td>\n",
              "      <td>255</td>\n",
              "      <td>167</td>\n",
              "      <td>97</td>\n",
              "      <td>53</td>\n",
              "      <td>39</td>\n",
              "      <td>21</td>\n",
              "      <td>0</td>\n",
              "      <td>0</td>\n",
              "      <td>...</td>\n",
              "      <td>126</td>\n",
              "      <td>23</td>\n",
              "      <td>0</td>\n",
              "      <td>0</td>\n",
              "      <td>255</td>\n",
              "      <td>255</td>\n",
              "      <td>32</td>\n",
              "      <td>19</td>\n",
              "      <td>56</td>\n",
              "      <td>34</td>\n",
              "    </tr>\n",
              "    <tr>\n",
              "      <th>2</th>\n",
              "      <td>0</td>\n",
              "      <td>0</td>\n",
              "      <td>255</td>\n",
              "      <td>174</td>\n",
              "      <td>107</td>\n",
              "      <td>58</td>\n",
              "      <td>46</td>\n",
              "      <td>25</td>\n",
              "      <td>0</td>\n",
              "      <td>0</td>\n",
              "      <td>...</td>\n",
              "      <td>122</td>\n",
              "      <td>23</td>\n",
              "      <td>0</td>\n",
              "      <td>0</td>\n",
              "      <td>255</td>\n",
              "      <td>255</td>\n",
              "      <td>26</td>\n",
              "      <td>12</td>\n",
              "      <td>54</td>\n",
              "      <td>33</td>\n",
              "    </tr>\n",
              "    <tr>\n",
              "      <th>3</th>\n",
              "      <td>0</td>\n",
              "      <td>0</td>\n",
              "      <td>255</td>\n",
              "      <td>174</td>\n",
              "      <td>103</td>\n",
              "      <td>56</td>\n",
              "      <td>41</td>\n",
              "      <td>21</td>\n",
              "      <td>0</td>\n",
              "      <td>0</td>\n",
              "      <td>...</td>\n",
              "      <td>120</td>\n",
              "      <td>24</td>\n",
              "      <td>0</td>\n",
              "      <td>0</td>\n",
              "      <td>255</td>\n",
              "      <td>255</td>\n",
              "      <td>33</td>\n",
              "      <td>19</td>\n",
              "      <td>50</td>\n",
              "      <td>30</td>\n",
              "    </tr>\n",
              "    <tr>\n",
              "      <th>4</th>\n",
              "      <td>0</td>\n",
              "      <td>0</td>\n",
              "      <td>255</td>\n",
              "      <td>175</td>\n",
              "      <td>104</td>\n",
              "      <td>58</td>\n",
              "      <td>44</td>\n",
              "      <td>25</td>\n",
              "      <td>0</td>\n",
              "      <td>0</td>\n",
              "      <td>...</td>\n",
              "      <td>120</td>\n",
              "      <td>23</td>\n",
              "      <td>0</td>\n",
              "      <td>0</td>\n",
              "      <td>255</td>\n",
              "      <td>255</td>\n",
              "      <td>25</td>\n",
              "      <td>12</td>\n",
              "      <td>52</td>\n",
              "      <td>31</td>\n",
              "    </tr>\n",
              "    <tr>\n",
              "      <th>...</th>\n",
              "      <td>...</td>\n",
              "      <td>...</td>\n",
              "      <td>...</td>\n",
              "      <td>...</td>\n",
              "      <td>...</td>\n",
              "      <td>...</td>\n",
              "      <td>...</td>\n",
              "      <td>...</td>\n",
              "      <td>...</td>\n",
              "      <td>...</td>\n",
              "      <td>...</td>\n",
              "      <td>...</td>\n",
              "      <td>...</td>\n",
              "      <td>...</td>\n",
              "      <td>...</td>\n",
              "      <td>...</td>\n",
              "      <td>...</td>\n",
              "      <td>...</td>\n",
              "      <td>...</td>\n",
              "      <td>...</td>\n",
              "      <td>...</td>\n",
              "    </tr>\n",
              "    <tr>\n",
              "      <th>39995</th>\n",
              "      <td>0</td>\n",
              "      <td>0</td>\n",
              "      <td>255</td>\n",
              "      <td>151</td>\n",
              "      <td>86</td>\n",
              "      <td>47</td>\n",
              "      <td>34</td>\n",
              "      <td>18</td>\n",
              "      <td>0</td>\n",
              "      <td>0</td>\n",
              "      <td>...</td>\n",
              "      <td>187</td>\n",
              "      <td>38</td>\n",
              "      <td>0</td>\n",
              "      <td>0</td>\n",
              "      <td>255</td>\n",
              "      <td>255</td>\n",
              "      <td>42</td>\n",
              "      <td>22</td>\n",
              "      <td>84</td>\n",
              "      <td>52</td>\n",
              "    </tr>\n",
              "    <tr>\n",
              "      <th>39996</th>\n",
              "      <td>0</td>\n",
              "      <td>0</td>\n",
              "      <td>255</td>\n",
              "      <td>156</td>\n",
              "      <td>89</td>\n",
              "      <td>51</td>\n",
              "      <td>35</td>\n",
              "      <td>21</td>\n",
              "      <td>0</td>\n",
              "      <td>0</td>\n",
              "      <td>...</td>\n",
              "      <td>183</td>\n",
              "      <td>37</td>\n",
              "      <td>0</td>\n",
              "      <td>0</td>\n",
              "      <td>255</td>\n",
              "      <td>255</td>\n",
              "      <td>42</td>\n",
              "      <td>22</td>\n",
              "      <td>82</td>\n",
              "      <td>51</td>\n",
              "    </tr>\n",
              "    <tr>\n",
              "      <th>39997</th>\n",
              "      <td>0</td>\n",
              "      <td>0</td>\n",
              "      <td>255</td>\n",
              "      <td>158</td>\n",
              "      <td>95</td>\n",
              "      <td>54</td>\n",
              "      <td>41</td>\n",
              "      <td>23</td>\n",
              "      <td>0</td>\n",
              "      <td>0</td>\n",
              "      <td>...</td>\n",
              "      <td>171</td>\n",
              "      <td>30</td>\n",
              "      <td>0</td>\n",
              "      <td>0</td>\n",
              "      <td>255</td>\n",
              "      <td>255</td>\n",
              "      <td>43</td>\n",
              "      <td>23</td>\n",
              "      <td>69</td>\n",
              "      <td>39</td>\n",
              "    </tr>\n",
              "    <tr>\n",
              "      <th>39998</th>\n",
              "      <td>0</td>\n",
              "      <td>0</td>\n",
              "      <td>255</td>\n",
              "      <td>151</td>\n",
              "      <td>88</td>\n",
              "      <td>50</td>\n",
              "      <td>36</td>\n",
              "      <td>22</td>\n",
              "      <td>0</td>\n",
              "      <td>0</td>\n",
              "      <td>...</td>\n",
              "      <td>169</td>\n",
              "      <td>28</td>\n",
              "      <td>0</td>\n",
              "      <td>0</td>\n",
              "      <td>255</td>\n",
              "      <td>255</td>\n",
              "      <td>40</td>\n",
              "      <td>21</td>\n",
              "      <td>74</td>\n",
              "      <td>44</td>\n",
              "    </tr>\n",
              "    <tr>\n",
              "      <th>39999</th>\n",
              "      <td>0</td>\n",
              "      <td>0</td>\n",
              "      <td>255</td>\n",
              "      <td>140</td>\n",
              "      <td>81</td>\n",
              "      <td>39</td>\n",
              "      <td>30</td>\n",
              "      <td>11</td>\n",
              "      <td>0</td>\n",
              "      <td>0</td>\n",
              "      <td>...</td>\n",
              "      <td>172</td>\n",
              "      <td>32</td>\n",
              "      <td>0</td>\n",
              "      <td>0</td>\n",
              "      <td>255</td>\n",
              "      <td>255</td>\n",
              "      <td>41</td>\n",
              "      <td>22</td>\n",
              "      <td>84</td>\n",
              "      <td>54</td>\n",
              "    </tr>\n",
              "  </tbody>\n",
              "</table>\n",
              "<p>40000 rows × 46080 columns</p>\n",
              "</div>\n",
              "      <button class=\"colab-df-convert\" onclick=\"convertToInteractive('df-c539da21-6c10-4a61-9e68-1bda2e562710')\"\n",
              "              title=\"Convert this dataframe to an interactive table.\"\n",
              "              style=\"display:none;\">\n",
              "        \n",
              "  <svg xmlns=\"http://www.w3.org/2000/svg\" height=\"24px\"viewBox=\"0 0 24 24\"\n",
              "       width=\"24px\">\n",
              "    <path d=\"M0 0h24v24H0V0z\" fill=\"none\"/>\n",
              "    <path d=\"M18.56 5.44l.94 2.06.94-2.06 2.06-.94-2.06-.94-.94-2.06-.94 2.06-2.06.94zm-11 1L8.5 8.5l.94-2.06 2.06-.94-2.06-.94L8.5 2.5l-.94 2.06-2.06.94zm10 10l.94 2.06.94-2.06 2.06-.94-2.06-.94-.94-2.06-.94 2.06-2.06.94z\"/><path d=\"M17.41 7.96l-1.37-1.37c-.4-.4-.92-.59-1.43-.59-.52 0-1.04.2-1.43.59L10.3 9.45l-7.72 7.72c-.78.78-.78 2.05 0 2.83L4 21.41c.39.39.9.59 1.41.59.51 0 1.02-.2 1.41-.59l7.78-7.78 2.81-2.81c.8-.78.8-2.07 0-2.86zM5.41 20L4 18.59l7.72-7.72 1.47 1.35L5.41 20z\"/>\n",
              "  </svg>\n",
              "      </button>\n",
              "      \n",
              "  <style>\n",
              "    .colab-df-container {\n",
              "      display:flex;\n",
              "      flex-wrap:wrap;\n",
              "      gap: 12px;\n",
              "    }\n",
              "\n",
              "    .colab-df-convert {\n",
              "      background-color: #E8F0FE;\n",
              "      border: none;\n",
              "      border-radius: 50%;\n",
              "      cursor: pointer;\n",
              "      display: none;\n",
              "      fill: #1967D2;\n",
              "      height: 32px;\n",
              "      padding: 0 0 0 0;\n",
              "      width: 32px;\n",
              "    }\n",
              "\n",
              "    .colab-df-convert:hover {\n",
              "      background-color: #E2EBFA;\n",
              "      box-shadow: 0px 1px 2px rgba(60, 64, 67, 0.3), 0px 1px 3px 1px rgba(60, 64, 67, 0.15);\n",
              "      fill: #174EA6;\n",
              "    }\n",
              "\n",
              "    [theme=dark] .colab-df-convert {\n",
              "      background-color: #3B4455;\n",
              "      fill: #D2E3FC;\n",
              "    }\n",
              "\n",
              "    [theme=dark] .colab-df-convert:hover {\n",
              "      background-color: #434B5C;\n",
              "      box-shadow: 0px 1px 3px 1px rgba(0, 0, 0, 0.15);\n",
              "      filter: drop-shadow(0px 1px 2px rgba(0, 0, 0, 0.3));\n",
              "      fill: #FFFFFF;\n",
              "    }\n",
              "  </style>\n",
              "\n",
              "      <script>\n",
              "        const buttonEl =\n",
              "          document.querySelector('#df-c539da21-6c10-4a61-9e68-1bda2e562710 button.colab-df-convert');\n",
              "        buttonEl.style.display =\n",
              "          google.colab.kernel.accessAllowed ? 'block' : 'none';\n",
              "\n",
              "        async function convertToInteractive(key) {\n",
              "          const element = document.querySelector('#df-c539da21-6c10-4a61-9e68-1bda2e562710');\n",
              "          const dataTable =\n",
              "            await google.colab.kernel.invokeFunction('convertToInteractive',\n",
              "                                                     [key], {});\n",
              "          if (!dataTable) return;\n",
              "\n",
              "          const docLinkHtml = 'Like what you see? Visit the ' +\n",
              "            '<a target=\"_blank\" href=https://colab.research.google.com/notebooks/data_table.ipynb>data table notebook</a>'\n",
              "            + ' to learn more about interactive tables.';\n",
              "          element.innerHTML = '';\n",
              "          dataTable['output_type'] = 'display_data';\n",
              "          await google.colab.output.renderOutput(dataTable, element);\n",
              "          const docLink = document.createElement('div');\n",
              "          docLink.innerHTML = docLinkHtml;\n",
              "          element.appendChild(docLink);\n",
              "        }\n",
              "      </script>\n",
              "    </div>\n",
              "  </div>\n",
              "  "
            ],
            "text/plain": [
              "       Gabor1  Gabor2  Gabor3  Gabor4  Gabor5  Gabor6  Gabor7  Gabor8  Gabor9  \\\n",
              "0           0       0     255     163      91      50      34      19       0   \n",
              "1           0       0     255     167      97      53      39      21       0   \n",
              "2           0       0     255     174     107      58      46      25       0   \n",
              "3           0       0     255     174     103      56      41      21       0   \n",
              "4           0       0     255     175     104      58      44      25       0   \n",
              "...       ...     ...     ...     ...     ...     ...     ...     ...     ...   \n",
              "39995       0       0     255     151      86      47      34      18       0   \n",
              "39996       0       0     255     156      89      51      35      21       0   \n",
              "39997       0       0     255     158      95      54      41      23       0   \n",
              "39998       0       0     255     151      88      50      36      22       0   \n",
              "39999       0       0     255     140      81      39      30      11       0   \n",
              "\n",
              "       Gabor10  ...  Gabor46071  Gabor46072  Gabor46073  Gabor46074  \\\n",
              "0            0  ...         126          21           0           0   \n",
              "1            0  ...         126          23           0           0   \n",
              "2            0  ...         122          23           0           0   \n",
              "3            0  ...         120          24           0           0   \n",
              "4            0  ...         120          23           0           0   \n",
              "...        ...  ...         ...         ...         ...         ...   \n",
              "39995        0  ...         187          38           0           0   \n",
              "39996        0  ...         183          37           0           0   \n",
              "39997        0  ...         171          30           0           0   \n",
              "39998        0  ...         169          28           0           0   \n",
              "39999        0  ...         172          32           0           0   \n",
              "\n",
              "       Gabor46075  Gabor46076  Gabor46077  Gabor46078  Gabor46079  Gabor46080  \n",
              "0             255         255          26          12          56          33  \n",
              "1             255         255          32          19          56          34  \n",
              "2             255         255          26          12          54          33  \n",
              "3             255         255          33          19          50          30  \n",
              "4             255         255          25          12          52          31  \n",
              "...           ...         ...         ...         ...         ...         ...  \n",
              "39995         255         255          42          22          84          52  \n",
              "39996         255         255          42          22          82          51  \n",
              "39997         255         255          43          23          69          39  \n",
              "39998         255         255          40          21          74          44  \n",
              "39999         255         255          41          22          84          54  \n",
              "\n",
              "[40000 rows x 46080 columns]"
            ]
          },
          "execution_count": 9,
          "metadata": {},
          "output_type": "execute_result"
        }
      ],
      "source": [
        "df"
      ]
    },
    {
      "cell_type": "code",
      "execution_count": null,
      "metadata": {
        "colab": {
          "background_save": true
        },
        "id": "QqPEF5VGPgkd"
      },
      "outputs": [],
      "source": []
    },
    {
      "cell_type": "code",
      "execution_count": null,
      "metadata": {
        "colab": {
          "background_save": true
        },
        "id": "C1JGdE4oO_36",
        "outputId": "9c02a8be-1839-4188-f88b-e8ffb3a278e0"
      },
      "outputs": [
        {
          "name": "stdout",
          "output_type": "stream",
          "text": [
            "1440\n"
          ]
        }
      ],
      "source": [
        "print(len(x_train))"
      ]
    },
    {
      "cell_type": "code",
      "execution_count": null,
      "metadata": {
        "colab": {
          "background_save": true
        },
        "id": "GzSKB6uwO_7d"
      },
      "outputs": [],
      "source": [
        "# kernels"
      ]
    },
    {
      "cell_type": "code",
      "execution_count": null,
      "metadata": {
        "colab": {
          "background_save": true
        },
        "id": "EcfEN4QOO__T",
        "outputId": "ca076ff6-e558-49fa-c690-bb1b9202cea5"
      },
      "outputs": [
        {
          "name": "stdout",
          "output_type": "stream",
          "text": [
            "1440\n"
          ]
        }
      ],
      "source": [
        "print(len(y_train))"
      ]
    },
    {
      "cell_type": "code",
      "execution_count": null,
      "metadata": {
        "colab": {
          "background_save": true
        },
        "id": "ic7F0gw1PALG"
      },
      "outputs": [],
      "source": []
    },
    {
      "cell_type": "code",
      "execution_count": null,
      "metadata": {
        "colab": {
          "background_save": true
        },
        "id": "p2hATuCwM6LU"
      },
      "outputs": [],
      "source": []
    },
    {
      "cell_type": "markdown",
      "metadata": {
        "id": "IxS2GkCrRFNj"
      },
      "source": [
        "# **Testing Dataset**"
      ]
    },
    {
      "cell_type": "code",
      "execution_count": null,
      "metadata": {
        "colab": {
          "background_save": true
        },
        "id": "GfeL40RxQ_vk"
      },
      "outputs": [],
      "source": [
        "val_path = \"/content/drive/MyDrive/NEU-DET/validation/images/\""
      ]
    },
    {
      "cell_type": "code",
      "execution_count": null,
      "metadata": {
        "colab": {
          "background_save": true
        },
        "id": "FEyiftBYRUB4"
      },
      "outputs": [],
      "source": [
        "test_slices = []"
      ]
    },
    {
      "cell_type": "code",
      "execution_count": null,
      "metadata": {
        "colab": {
          "background_save": true
        },
        "id": "D4srx_YPQ_yi"
      },
      "outputs": [],
      "source": [
        "for dirName, subdirList, fileList in os.walk(val_path):\n",
        "        for filename in fileList:\n",
        "            if \".jpg\" in filename.lower():\n",
        "                test_slices.append(cv2.imread(os.path.join(dirName, filename),0))"
      ]
    },
    {
      "cell_type": "code",
      "execution_count": null,
      "metadata": {
        "colab": {
          "background_save": true
        },
        "id": "qWvaeBnuQ_1e",
        "outputId": "09495244-6388-40b4-9d4e-0a72d87180c1"
      },
      "outputs": [
        {
          "name": "stdout",
          "output_type": "stream",
          "text": [
            "360\n"
          ]
        }
      ],
      "source": [
        "print(len(test_slices))"
      ]
    },
    {
      "cell_type": "code",
      "execution_count": null,
      "metadata": {
        "colab": {
          "background_save": true
        },
        "id": "sICe1ltrR_6k"
      },
      "outputs": [],
      "source": [
        "df1 = pd.DataFrame()"
      ]
    },
    {
      "cell_type": "code",
      "execution_count": null,
      "metadata": {
        "colab": {
          "background_save": true
        },
        "id": "6ziFuYb8Q_43",
        "outputId": "f4a3e2c5-007a-4d72-d1b4-a098d4c37c98"
      },
      "outputs": [
        {
          "name": "stderr",
          "output_type": "stream",
          "text": [
            "/usr/local/lib/python3.7/dist-packages/ipykernel_launcher.py:23: PerformanceWarning: DataFrame is highly fragmented.  This is usually the result of calling `frame.insert` many times, which has poor performance.  Consider joining all columns at once using pd.concat(axis=1) instead.  To get a de-fragmented frame, use `newframe = frame.copy()`\n"
          ]
        }
      ],
      "source": [
        "x_test = list()\n",
        "y_test = list()\n",
        "kernels = []\n",
        "count = 0\n",
        "num = 1\n",
        "\n",
        "for i in range(len(test_slices)):\n",
        "  img = slices[i]\n",
        "  for theta in range(2):\n",
        "    theta = theta /4. *np.pi\n",
        "    for sigma in (1,3):\n",
        "      for lamda in np.arange(0, np.pi, np.pi /4):\n",
        "        for gamma in (0.05, 0.5):\n",
        "\n",
        "          gabor_label = 'Gabor' + str(num)\n",
        "\n",
        "          ksize = 9\n",
        "          kernel = cv2.getGaborKernel((ksize, ksize), sigma, theta, lamda, gamma, 0, ktype=cv2.CV_32F)\n",
        "          kernels.append(kernel)\n",
        "\n",
        "          fimg = cv2.filter2D(img, cv2.CV_8UC3, kernel)\n",
        "          filtered_img = fimg.reshape(-1)\n",
        "          df1[gabor_label] = filtered_img\n",
        "          # print(gabor_label, ':theta', theta,':sigma', sigma, ':lamda', lamda, ':gamma', gamma )\n",
        "          num +=1\n",
        "    \n",
        "\n",
        "\n",
        "\n",
        "\n",
        "  x_test.append(kernels)\n",
        "  y_test.append(int(count/60))\n",
        "  count +=1"
      ]
    },
    {
      "cell_type": "code",
      "execution_count": null,
      "metadata": {
        "colab": {
          "background_save": true
        },
        "id": "C6nvQpmyQ_7e",
        "outputId": "19ea9f9f-df68-4d46-e826-728f12e1f042"
      },
      "outputs": [
        {
          "data": {
            "text/html": [
              "\n",
              "  <div id=\"df-87af2a64-6cb6-4e84-b8c7-e1e1c9bac773\">\n",
              "    <div class=\"colab-df-container\">\n",
              "      <div>\n",
              "<style scoped>\n",
              "    .dataframe tbody tr th:only-of-type {\n",
              "        vertical-align: middle;\n",
              "    }\n",
              "\n",
              "    .dataframe tbody tr th {\n",
              "        vertical-align: top;\n",
              "    }\n",
              "\n",
              "    .dataframe thead th {\n",
              "        text-align: right;\n",
              "    }\n",
              "</style>\n",
              "<table border=\"1\" class=\"dataframe\">\n",
              "  <thead>\n",
              "    <tr style=\"text-align: right;\">\n",
              "      <th></th>\n",
              "      <th>Gabor1</th>\n",
              "      <th>Gabor2</th>\n",
              "      <th>Gabor3</th>\n",
              "      <th>Gabor4</th>\n",
              "      <th>Gabor5</th>\n",
              "      <th>Gabor6</th>\n",
              "      <th>Gabor7</th>\n",
              "      <th>Gabor8</th>\n",
              "      <th>Gabor9</th>\n",
              "      <th>Gabor10</th>\n",
              "      <th>...</th>\n",
              "      <th>Gabor11511</th>\n",
              "      <th>Gabor11512</th>\n",
              "      <th>Gabor11513</th>\n",
              "      <th>Gabor11514</th>\n",
              "      <th>Gabor11515</th>\n",
              "      <th>Gabor11516</th>\n",
              "      <th>Gabor11517</th>\n",
              "      <th>Gabor11518</th>\n",
              "      <th>Gabor11519</th>\n",
              "      <th>Gabor11520</th>\n",
              "    </tr>\n",
              "  </thead>\n",
              "  <tbody>\n",
              "    <tr>\n",
              "      <th>0</th>\n",
              "      <td>0</td>\n",
              "      <td>0</td>\n",
              "      <td>255</td>\n",
              "      <td>163</td>\n",
              "      <td>91</td>\n",
              "      <td>50</td>\n",
              "      <td>34</td>\n",
              "      <td>19</td>\n",
              "      <td>0</td>\n",
              "      <td>0</td>\n",
              "      <td>...</td>\n",
              "      <td>255</td>\n",
              "      <td>23</td>\n",
              "      <td>0</td>\n",
              "      <td>0</td>\n",
              "      <td>255</td>\n",
              "      <td>255</td>\n",
              "      <td>165</td>\n",
              "      <td>118</td>\n",
              "      <td>57</td>\n",
              "      <td>4</td>\n",
              "    </tr>\n",
              "    <tr>\n",
              "      <th>1</th>\n",
              "      <td>0</td>\n",
              "      <td>0</td>\n",
              "      <td>255</td>\n",
              "      <td>167</td>\n",
              "      <td>97</td>\n",
              "      <td>53</td>\n",
              "      <td>39</td>\n",
              "      <td>21</td>\n",
              "      <td>0</td>\n",
              "      <td>0</td>\n",
              "      <td>...</td>\n",
              "      <td>251</td>\n",
              "      <td>51</td>\n",
              "      <td>0</td>\n",
              "      <td>0</td>\n",
              "      <td>255</td>\n",
              "      <td>255</td>\n",
              "      <td>0</td>\n",
              "      <td>0</td>\n",
              "      <td>123</td>\n",
              "      <td>83</td>\n",
              "    </tr>\n",
              "    <tr>\n",
              "      <th>2</th>\n",
              "      <td>0</td>\n",
              "      <td>0</td>\n",
              "      <td>255</td>\n",
              "      <td>174</td>\n",
              "      <td>107</td>\n",
              "      <td>58</td>\n",
              "      <td>46</td>\n",
              "      <td>25</td>\n",
              "      <td>0</td>\n",
              "      <td>0</td>\n",
              "      <td>...</td>\n",
              "      <td>255</td>\n",
              "      <td>82</td>\n",
              "      <td>0</td>\n",
              "      <td>0</td>\n",
              "      <td>255</td>\n",
              "      <td>255</td>\n",
              "      <td>165</td>\n",
              "      <td>116</td>\n",
              "      <td>224</td>\n",
              "      <td>163</td>\n",
              "    </tr>\n",
              "    <tr>\n",
              "      <th>3</th>\n",
              "      <td>0</td>\n",
              "      <td>0</td>\n",
              "      <td>255</td>\n",
              "      <td>174</td>\n",
              "      <td>103</td>\n",
              "      <td>56</td>\n",
              "      <td>41</td>\n",
              "      <td>21</td>\n",
              "      <td>0</td>\n",
              "      <td>0</td>\n",
              "      <td>...</td>\n",
              "      <td>255</td>\n",
              "      <td>52</td>\n",
              "      <td>0</td>\n",
              "      <td>0</td>\n",
              "      <td>255</td>\n",
              "      <td>255</td>\n",
              "      <td>14</td>\n",
              "      <td>0</td>\n",
              "      <td>103</td>\n",
              "      <td>47</td>\n",
              "    </tr>\n",
              "    <tr>\n",
              "      <th>4</th>\n",
              "      <td>0</td>\n",
              "      <td>0</td>\n",
              "      <td>255</td>\n",
              "      <td>175</td>\n",
              "      <td>104</td>\n",
              "      <td>58</td>\n",
              "      <td>44</td>\n",
              "      <td>25</td>\n",
              "      <td>0</td>\n",
              "      <td>0</td>\n",
              "      <td>...</td>\n",
              "      <td>255</td>\n",
              "      <td>76</td>\n",
              "      <td>0</td>\n",
              "      <td>0</td>\n",
              "      <td>255</td>\n",
              "      <td>255</td>\n",
              "      <td>95</td>\n",
              "      <td>61</td>\n",
              "      <td>32</td>\n",
              "      <td>0</td>\n",
              "    </tr>\n",
              "    <tr>\n",
              "      <th>...</th>\n",
              "      <td>...</td>\n",
              "      <td>...</td>\n",
              "      <td>...</td>\n",
              "      <td>...</td>\n",
              "      <td>...</td>\n",
              "      <td>...</td>\n",
              "      <td>...</td>\n",
              "      <td>...</td>\n",
              "      <td>...</td>\n",
              "      <td>...</td>\n",
              "      <td>...</td>\n",
              "      <td>...</td>\n",
              "      <td>...</td>\n",
              "      <td>...</td>\n",
              "      <td>...</td>\n",
              "      <td>...</td>\n",
              "      <td>...</td>\n",
              "      <td>...</td>\n",
              "      <td>...</td>\n",
              "      <td>...</td>\n",
              "      <td>...</td>\n",
              "    </tr>\n",
              "    <tr>\n",
              "      <th>39995</th>\n",
              "      <td>0</td>\n",
              "      <td>0</td>\n",
              "      <td>255</td>\n",
              "      <td>151</td>\n",
              "      <td>86</td>\n",
              "      <td>47</td>\n",
              "      <td>34</td>\n",
              "      <td>18</td>\n",
              "      <td>0</td>\n",
              "      <td>0</td>\n",
              "      <td>...</td>\n",
              "      <td>255</td>\n",
              "      <td>92</td>\n",
              "      <td>0</td>\n",
              "      <td>0</td>\n",
              "      <td>255</td>\n",
              "      <td>255</td>\n",
              "      <td>124</td>\n",
              "      <td>66</td>\n",
              "      <td>202</td>\n",
              "      <td>116</td>\n",
              "    </tr>\n",
              "    <tr>\n",
              "      <th>39996</th>\n",
              "      <td>0</td>\n",
              "      <td>0</td>\n",
              "      <td>255</td>\n",
              "      <td>156</td>\n",
              "      <td>89</td>\n",
              "      <td>51</td>\n",
              "      <td>35</td>\n",
              "      <td>21</td>\n",
              "      <td>0</td>\n",
              "      <td>0</td>\n",
              "      <td>...</td>\n",
              "      <td>255</td>\n",
              "      <td>91</td>\n",
              "      <td>0</td>\n",
              "      <td>0</td>\n",
              "      <td>255</td>\n",
              "      <td>255</td>\n",
              "      <td>119</td>\n",
              "      <td>63</td>\n",
              "      <td>201</td>\n",
              "      <td>116</td>\n",
              "    </tr>\n",
              "    <tr>\n",
              "      <th>39997</th>\n",
              "      <td>0</td>\n",
              "      <td>0</td>\n",
              "      <td>255</td>\n",
              "      <td>158</td>\n",
              "      <td>95</td>\n",
              "      <td>54</td>\n",
              "      <td>41</td>\n",
              "      <td>23</td>\n",
              "      <td>0</td>\n",
              "      <td>0</td>\n",
              "      <td>...</td>\n",
              "      <td>255</td>\n",
              "      <td>96</td>\n",
              "      <td>0</td>\n",
              "      <td>0</td>\n",
              "      <td>255</td>\n",
              "      <td>255</td>\n",
              "      <td>115</td>\n",
              "      <td>59</td>\n",
              "      <td>222</td>\n",
              "      <td>137</td>\n",
              "    </tr>\n",
              "    <tr>\n",
              "      <th>39998</th>\n",
              "      <td>0</td>\n",
              "      <td>0</td>\n",
              "      <td>255</td>\n",
              "      <td>151</td>\n",
              "      <td>88</td>\n",
              "      <td>50</td>\n",
              "      <td>36</td>\n",
              "      <td>22</td>\n",
              "      <td>0</td>\n",
              "      <td>0</td>\n",
              "      <td>...</td>\n",
              "      <td>255</td>\n",
              "      <td>94</td>\n",
              "      <td>0</td>\n",
              "      <td>0</td>\n",
              "      <td>255</td>\n",
              "      <td>255</td>\n",
              "      <td>123</td>\n",
              "      <td>66</td>\n",
              "      <td>214</td>\n",
              "      <td>129</td>\n",
              "    </tr>\n",
              "    <tr>\n",
              "      <th>39999</th>\n",
              "      <td>0</td>\n",
              "      <td>0</td>\n",
              "      <td>255</td>\n",
              "      <td>140</td>\n",
              "      <td>81</td>\n",
              "      <td>39</td>\n",
              "      <td>30</td>\n",
              "      <td>11</td>\n",
              "      <td>0</td>\n",
              "      <td>0</td>\n",
              "      <td>...</td>\n",
              "      <td>255</td>\n",
              "      <td>88</td>\n",
              "      <td>0</td>\n",
              "      <td>0</td>\n",
              "      <td>255</td>\n",
              "      <td>255</td>\n",
              "      <td>117</td>\n",
              "      <td>60</td>\n",
              "      <td>199</td>\n",
              "      <td>113</td>\n",
              "    </tr>\n",
              "  </tbody>\n",
              "</table>\n",
              "<p>40000 rows × 11520 columns</p>\n",
              "</div>\n",
              "      <button class=\"colab-df-convert\" onclick=\"convertToInteractive('df-87af2a64-6cb6-4e84-b8c7-e1e1c9bac773')\"\n",
              "              title=\"Convert this dataframe to an interactive table.\"\n",
              "              style=\"display:none;\">\n",
              "        \n",
              "  <svg xmlns=\"http://www.w3.org/2000/svg\" height=\"24px\"viewBox=\"0 0 24 24\"\n",
              "       width=\"24px\">\n",
              "    <path d=\"M0 0h24v24H0V0z\" fill=\"none\"/>\n",
              "    <path d=\"M18.56 5.44l.94 2.06.94-2.06 2.06-.94-2.06-.94-.94-2.06-.94 2.06-2.06.94zm-11 1L8.5 8.5l.94-2.06 2.06-.94-2.06-.94L8.5 2.5l-.94 2.06-2.06.94zm10 10l.94 2.06.94-2.06 2.06-.94-2.06-.94-.94-2.06-.94 2.06-2.06.94z\"/><path d=\"M17.41 7.96l-1.37-1.37c-.4-.4-.92-.59-1.43-.59-.52 0-1.04.2-1.43.59L10.3 9.45l-7.72 7.72c-.78.78-.78 2.05 0 2.83L4 21.41c.39.39.9.59 1.41.59.51 0 1.02-.2 1.41-.59l7.78-7.78 2.81-2.81c.8-.78.8-2.07 0-2.86zM5.41 20L4 18.59l7.72-7.72 1.47 1.35L5.41 20z\"/>\n",
              "  </svg>\n",
              "      </button>\n",
              "      \n",
              "  <style>\n",
              "    .colab-df-container {\n",
              "      display:flex;\n",
              "      flex-wrap:wrap;\n",
              "      gap: 12px;\n",
              "    }\n",
              "\n",
              "    .colab-df-convert {\n",
              "      background-color: #E8F0FE;\n",
              "      border: none;\n",
              "      border-radius: 50%;\n",
              "      cursor: pointer;\n",
              "      display: none;\n",
              "      fill: #1967D2;\n",
              "      height: 32px;\n",
              "      padding: 0 0 0 0;\n",
              "      width: 32px;\n",
              "    }\n",
              "\n",
              "    .colab-df-convert:hover {\n",
              "      background-color: #E2EBFA;\n",
              "      box-shadow: 0px 1px 2px rgba(60, 64, 67, 0.3), 0px 1px 3px 1px rgba(60, 64, 67, 0.15);\n",
              "      fill: #174EA6;\n",
              "    }\n",
              "\n",
              "    [theme=dark] .colab-df-convert {\n",
              "      background-color: #3B4455;\n",
              "      fill: #D2E3FC;\n",
              "    }\n",
              "\n",
              "    [theme=dark] .colab-df-convert:hover {\n",
              "      background-color: #434B5C;\n",
              "      box-shadow: 0px 1px 3px 1px rgba(0, 0, 0, 0.15);\n",
              "      filter: drop-shadow(0px 1px 2px rgba(0, 0, 0, 0.3));\n",
              "      fill: #FFFFFF;\n",
              "    }\n",
              "  </style>\n",
              "\n",
              "      <script>\n",
              "        const buttonEl =\n",
              "          document.querySelector('#df-87af2a64-6cb6-4e84-b8c7-e1e1c9bac773 button.colab-df-convert');\n",
              "        buttonEl.style.display =\n",
              "          google.colab.kernel.accessAllowed ? 'block' : 'none';\n",
              "\n",
              "        async function convertToInteractive(key) {\n",
              "          const element = document.querySelector('#df-87af2a64-6cb6-4e84-b8c7-e1e1c9bac773');\n",
              "          const dataTable =\n",
              "            await google.colab.kernel.invokeFunction('convertToInteractive',\n",
              "                                                     [key], {});\n",
              "          if (!dataTable) return;\n",
              "\n",
              "          const docLinkHtml = 'Like what you see? Visit the ' +\n",
              "            '<a target=\"_blank\" href=https://colab.research.google.com/notebooks/data_table.ipynb>data table notebook</a>'\n",
              "            + ' to learn more about interactive tables.';\n",
              "          element.innerHTML = '';\n",
              "          dataTable['output_type'] = 'display_data';\n",
              "          await google.colab.output.renderOutput(dataTable, element);\n",
              "          const docLink = document.createElement('div');\n",
              "          docLink.innerHTML = docLinkHtml;\n",
              "          element.appendChild(docLink);\n",
              "        }\n",
              "      </script>\n",
              "    </div>\n",
              "  </div>\n",
              "  "
            ],
            "text/plain": [
              "       Gabor1  Gabor2  Gabor3  Gabor4  Gabor5  Gabor6  Gabor7  Gabor8  Gabor9  \\\n",
              "0           0       0     255     163      91      50      34      19       0   \n",
              "1           0       0     255     167      97      53      39      21       0   \n",
              "2           0       0     255     174     107      58      46      25       0   \n",
              "3           0       0     255     174     103      56      41      21       0   \n",
              "4           0       0     255     175     104      58      44      25       0   \n",
              "...       ...     ...     ...     ...     ...     ...     ...     ...     ...   \n",
              "39995       0       0     255     151      86      47      34      18       0   \n",
              "39996       0       0     255     156      89      51      35      21       0   \n",
              "39997       0       0     255     158      95      54      41      23       0   \n",
              "39998       0       0     255     151      88      50      36      22       0   \n",
              "39999       0       0     255     140      81      39      30      11       0   \n",
              "\n",
              "       Gabor10  ...  Gabor11511  Gabor11512  Gabor11513  Gabor11514  \\\n",
              "0            0  ...         255          23           0           0   \n",
              "1            0  ...         251          51           0           0   \n",
              "2            0  ...         255          82           0           0   \n",
              "3            0  ...         255          52           0           0   \n",
              "4            0  ...         255          76           0           0   \n",
              "...        ...  ...         ...         ...         ...         ...   \n",
              "39995        0  ...         255          92           0           0   \n",
              "39996        0  ...         255          91           0           0   \n",
              "39997        0  ...         255          96           0           0   \n",
              "39998        0  ...         255          94           0           0   \n",
              "39999        0  ...         255          88           0           0   \n",
              "\n",
              "       Gabor11515  Gabor11516  Gabor11517  Gabor11518  Gabor11519  Gabor11520  \n",
              "0             255         255         165         118          57           4  \n",
              "1             255         255           0           0         123          83  \n",
              "2             255         255         165         116         224         163  \n",
              "3             255         255          14           0         103          47  \n",
              "4             255         255          95          61          32           0  \n",
              "...           ...         ...         ...         ...         ...         ...  \n",
              "39995         255         255         124          66         202         116  \n",
              "39996         255         255         119          63         201         116  \n",
              "39997         255         255         115          59         222         137  \n",
              "39998         255         255         123          66         214         129  \n",
              "39999         255         255         117          60         199         113  \n",
              "\n",
              "[40000 rows x 11520 columns]"
            ]
          },
          "execution_count": 19,
          "metadata": {},
          "output_type": "execute_result"
        }
      ],
      "source": [
        "df1"
      ]
    },
    {
      "cell_type": "code",
      "execution_count": null,
      "metadata": {
        "colab": {
          "background_save": true
        },
        "id": "xlUKpwmPQ__r",
        "outputId": "7c03eb01-0764-457f-f5c8-487175ccb3a1"
      },
      "outputs": [
        {
          "name": "stdout",
          "output_type": "stream",
          "text": [
            "360\n"
          ]
        }
      ],
      "source": [
        "print(len(x_test))"
      ]
    },
    {
      "cell_type": "code",
      "execution_count": null,
      "metadata": {
        "colab": {
          "background_save": true
        },
        "id": "CjAXAMLkSlIj"
      },
      "outputs": [],
      "source": [
        "# y_test"
      ]
    },
    {
      "cell_type": "code",
      "execution_count": null,
      "metadata": {
        "colab": {
          "background_save": true
        },
        "id": "_9ka30HESmkS"
      },
      "outputs": [],
      "source": []
    },
    {
      "cell_type": "markdown",
      "metadata": {
        "id": "j6ZJTjF-TJns"
      },
      "source": [
        "# **Implementing KNN**"
      ]
    },
    {
      "cell_type": "code",
      "execution_count": null,
      "metadata": {
        "id": "Dj_4F7FRS3P7"
      },
      "outputs": [],
      "source": [
        "#creating the KNearest Neighbor model and determining accuracy score\n",
        "K_value = 5\n",
        "neigh = KNeighborsClassifier(n_neighbors=K_value, weights='uniform', algorithm='auto')\n",
        "neigh.fit(x_train, y_train)\n",
        "predict1 = neigh.predict(x_test)\n",
        "scoree = accuracy_score(y_test, predict1)\n",
        "print(\"KNN testing accuracy=\",scoree*100)"
      ]
    },
    {
      "cell_type": "code",
      "execution_count": null,
      "metadata": {
        "id": "aqR4hu56S3TU"
      },
      "outputs": [],
      "source": []
    },
    {
      "cell_type": "code",
      "execution_count": null,
      "metadata": {
        "id": "xufL0iToS3V-"
      },
      "outputs": [],
      "source": []
    },
    {
      "cell_type": "code",
      "execution_count": null,
      "metadata": {
        "id": "_b7l2oHhS3ZE"
      },
      "outputs": [],
      "source": []
    },
    {
      "cell_type": "code",
      "execution_count": null,
      "metadata": {
        "id": "qUwIQmMSS3ca"
      },
      "outputs": [],
      "source": []
    },
    {
      "cell_type": "code",
      "execution_count": null,
      "metadata": {
        "id": "j9rlEfF0S3fn"
      },
      "outputs": [],
      "source": []
    }
  ],
  "metadata": {
    "colab": {
      "provenance": []
    },
    "kernelspec": {
      "display_name": "Python 3",
      "name": "python3"
    },
    "language_info": {
      "name": "python"
    }
  },
  "nbformat": 4,
  "nbformat_minor": 0
}